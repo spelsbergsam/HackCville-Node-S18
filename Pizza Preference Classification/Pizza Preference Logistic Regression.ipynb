{
 "cells": [
  {
   "cell_type": "code",
   "execution_count": 1,
   "metadata": {
    "collapsed": true
   },
   "outputs": [],
   "source": [
    "import pandas as pd\n",
    "import numpy as np\n",
    "from sklearn.linear_model import LogisticRegression"
   ]
  },
  {
   "cell_type": "code",
   "execution_count": 2,
   "metadata": {
    "collapsed": true
   },
   "outputs": [],
   "source": [
    "df = pd.read_csv(\"pizza_data.csv\")"
   ]
  },
  {
   "cell_type": "markdown",
   "metadata": {},
   "source": [
    "# Train/Test Sets"
   ]
  },
  {
   "cell_type": "code",
   "execution_count": 6,
   "metadata": {
    "collapsed": true
   },
   "outputs": [],
   "source": [
    "training = df.iloc[0:20]\n",
    "testing = df.iloc[20:25]"
   ]
  },
  {
   "cell_type": "markdown",
   "metadata": {},
   "source": [
    "# Nikhil Predictions\n",
    "\n",
    "### Test/Train Sets for Nikhil"
   ]
  },
  {
   "cell_type": "code",
   "execution_count": 8,
   "metadata": {
    "collapsed": true
   },
   "outputs": [],
   "source": [
    "nikhil_training = training.drop(['Pizza_ID', 'Category', 'Charlie_eats'], 1)\n",
    "\n",
    "nikhil_training_x = nikhil_training.drop('Nikhil_eats', 1)\n",
    "nikhil_training_y = nikhil_training['Nikhil_eats']\n",
    "\n",
    "\n",
    "nikhil_testing = testing.drop(['Pizza_ID', 'Category', 'Charlie_eats'], 1)\n",
    "\n",
    "nikhil_testing_x = nikhil_testing.drop('Nikhil_eats', 1)\n",
    "nikhil_testing_y = nikhil_testing['Nikhil_eats']"
   ]
  },
  {
   "cell_type": "markdown",
   "metadata": {},
   "source": [
    "### Classify with Logistic Regression"
   ]
  },
  {
   "cell_type": "code",
   "execution_count": 10,
   "metadata": {},
   "outputs": [
    {
     "name": "stdout",
     "output_type": "stream",
     "text": [
      "Predictions: [0 0 1 0 1]\n",
      "Actual:      [0 0 1 0 1]\n"
     ]
    }
   ],
   "source": [
    "clf = LogisticRegression(fit_intercept=False)\n",
    "clf.fit(nikhil_training_x, nikhil_training_y)\n",
    "\n",
    "nikhil_predicted = np.array(clf.predict(nikhil_testing_x))\n",
    "nikhil_test_array = np.array(nikhil_testing_y)\n",
    "\n",
    "print('Predictions:', nikhil_predicted)\n",
    "print('Actual:     ', nikhil_test_array)\n",
    "\n",
    "nikhil_matches = nikhil_predicted == nikhil_test_array"
   ]
  },
  {
   "cell_type": "markdown",
   "metadata": {},
   "source": [
    "# Charlie Predictions\n",
    "\n",
    "### Test/Train Sets for Charlie"
   ]
  },
  {
   "cell_type": "code",
   "execution_count": 11,
   "metadata": {
    "collapsed": true
   },
   "outputs": [],
   "source": [
    "charlie_training = training.drop(['Pizza_ID', 'Category', 'Nikhil_eats'], 1)\n",
    "\n",
    "charlie_training_x = charlie_training.drop('Charlie_eats', 1)\n",
    "charlie_training_y = charlie_training['Charlie_eats']\n",
    "\n",
    "\n",
    "charlie_testing = testing.drop(['Pizza_ID', 'Category', 'Nikhil_eats'], 1)\n",
    "\n",
    "charlie_testing_x = charlie_testing.drop('Charlie_eats', 1)\n",
    "charlie_testing_y = charlie_testing['Charlie_eats']"
   ]
  },
  {
   "cell_type": "markdown",
   "metadata": {},
   "source": [
    "### Classify with Logistic Regression"
   ]
  },
  {
   "cell_type": "code",
   "execution_count": 12,
   "metadata": {},
   "outputs": [
    {
     "name": "stdout",
     "output_type": "stream",
     "text": [
      "Predictions: [0 0 0 0 1]\n",
      "Actual:      [1 0 0 0 1]\n"
     ]
    }
   ],
   "source": [
    "\n",
    "clf.fit(charlie_training_x, charlie_training_y)\n",
    "\n",
    "charlie_predicted = np.array(clf.predict(charlie_testing_x))\n",
    "charlie_test_array = np.array(charlie_testing_y)\n",
    "\n",
    "print('Predictions:', charlie_predicted)\n",
    "print('Actual:     ', charlie_test_array)\n",
    "\n",
    "charlie_matches = charlie_predicted == charlie_test_array"
   ]
  },
  {
   "cell_type": "markdown",
   "metadata": {
    "collapsed": true
   },
   "source": [
    "# Total Accuracy"
   ]
  },
  {
   "cell_type": "code",
   "execution_count": 13,
   "metadata": {},
   "outputs": [
    {
     "name": "stdout",
     "output_type": "stream",
     "text": [
      "Accuracy: 90.0%\n"
     ]
    }
   ],
   "source": [
    "total_matches = np.concatenate([charlie_matches, nikhil_matches])\n",
    "hits = total_matches.sum()\n",
    "total = len(total_matches)\n",
    "acc = hits/total*100.0\n",
    "print(\"Accuracy: \" + str(acc) + \"%\")"
   ]
  },
  {
   "cell_type": "code",
   "execution_count": null,
   "metadata": {
    "collapsed": true
   },
   "outputs": [],
   "source": []
  }
 ],
 "metadata": {
  "kernelspec": {
   "display_name": "Python 3",
   "language": "python",
   "name": "python3"
  },
  "language_info": {
   "codemirror_mode": {
    "name": "ipython",
    "version": 3
   },
   "file_extension": ".py",
   "mimetype": "text/x-python",
   "name": "python",
   "nbconvert_exporter": "python",
   "pygments_lexer": "ipython3",
   "version": "3.6.3"
  }
 },
 "nbformat": 4,
 "nbformat_minor": 2
}
