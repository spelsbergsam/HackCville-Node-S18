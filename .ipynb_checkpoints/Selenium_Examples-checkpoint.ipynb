{
 "cells": [
  {
   "cell_type": "markdown",
   "metadata": {},
   "source": [
    "# Selenium\n",
    "## Web Browser automation and Scraping\n",
    "\n",
    "Selenium is a Python package that allows you to automate your web browser and to scrape data off web pages.\n",
    "\n",
    "###### Download Link and Instructions: http://selenium-python.readthedocs.io/installation.html"
   ]
  },
  {
   "cell_type": "markdown",
   "metadata": {},
   "source": [
    "# Example 1: Scraping from IMDB"
   ]
  },
  {
   "cell_type": "code",
   "execution_count": 1,
   "metadata": {
    "collapsed": true
   },
   "outputs": [],
   "source": [
    "# imports\n",
    "\n",
    "import numpy as np\n",
    "import pandas as pd\n",
    "from selenium import webdriver\n",
    "import time # this is for sleeping"
   ]
  },
  {
   "cell_type": "code",
   "execution_count": 2,
   "metadata": {},
   "outputs": [
    {
     "ename": "WebDriverException",
     "evalue": "Message: 'geckodriver' executable needs to be in PATH. \n",
     "output_type": "error",
     "traceback": [
      "\u001b[1;31m---------------------------------------------------------------------------\u001b[0m",
      "\u001b[1;31mFileNotFoundError\u001b[0m                         Traceback (most recent call last)",
      "\u001b[1;32m~\\Anaconda3\\lib\\site-packages\\selenium\\webdriver\\common\\service.py\u001b[0m in \u001b[0;36mstart\u001b[1;34m(self)\u001b[0m\n\u001b[0;32m     75\u001b[0m                                             \u001b[0mstderr\u001b[0m\u001b[1;33m=\u001b[0m\u001b[0mself\u001b[0m\u001b[1;33m.\u001b[0m\u001b[0mlog_file\u001b[0m\u001b[1;33m,\u001b[0m\u001b[1;33m\u001b[0m\u001b[0m\n\u001b[1;32m---> 76\u001b[1;33m                                             stdin=PIPE)\n\u001b[0m\u001b[0;32m     77\u001b[0m         \u001b[1;32mexcept\u001b[0m \u001b[0mTypeError\u001b[0m\u001b[1;33m:\u001b[0m\u001b[1;33m\u001b[0m\u001b[0m\n",
      "\u001b[1;32m~\\Anaconda3\\lib\\subprocess.py\u001b[0m in \u001b[0;36m__init__\u001b[1;34m(self, args, bufsize, executable, stdin, stdout, stderr, preexec_fn, close_fds, shell, cwd, env, universal_newlines, startupinfo, creationflags, restore_signals, start_new_session, pass_fds, encoding, errors)\u001b[0m\n\u001b[0;32m    708\u001b[0m                                 \u001b[0merrread\u001b[0m\u001b[1;33m,\u001b[0m \u001b[0merrwrite\u001b[0m\u001b[1;33m,\u001b[0m\u001b[1;33m\u001b[0m\u001b[0m\n\u001b[1;32m--> 709\u001b[1;33m                                 restore_signals, start_new_session)\n\u001b[0m\u001b[0;32m    710\u001b[0m         \u001b[1;32mexcept\u001b[0m\u001b[1;33m:\u001b[0m\u001b[1;33m\u001b[0m\u001b[0m\n",
      "\u001b[1;32m~\\Anaconda3\\lib\\subprocess.py\u001b[0m in \u001b[0;36m_execute_child\u001b[1;34m(self, args, executable, preexec_fn, close_fds, pass_fds, cwd, env, startupinfo, creationflags, shell, p2cread, p2cwrite, c2pread, c2pwrite, errread, errwrite, unused_restore_signals, unused_start_new_session)\u001b[0m\n\u001b[0;32m    996\u001b[0m                                          \u001b[0mos\u001b[0m\u001b[1;33m.\u001b[0m\u001b[0mfspath\u001b[0m\u001b[1;33m(\u001b[0m\u001b[0mcwd\u001b[0m\u001b[1;33m)\u001b[0m \u001b[1;32mif\u001b[0m \u001b[0mcwd\u001b[0m \u001b[1;32mis\u001b[0m \u001b[1;32mnot\u001b[0m \u001b[1;32mNone\u001b[0m \u001b[1;32melse\u001b[0m \u001b[1;32mNone\u001b[0m\u001b[1;33m,\u001b[0m\u001b[1;33m\u001b[0m\u001b[0m\n\u001b[1;32m--> 997\u001b[1;33m                                          startupinfo)\n\u001b[0m\u001b[0;32m    998\u001b[0m             \u001b[1;32mfinally\u001b[0m\u001b[1;33m:\u001b[0m\u001b[1;33m\u001b[0m\u001b[0m\n",
      "\u001b[1;31mFileNotFoundError\u001b[0m: [WinError 2] The system cannot find the file specified",
      "\nDuring handling of the above exception, another exception occurred:\n",
      "\u001b[1;31mWebDriverException\u001b[0m                        Traceback (most recent call last)",
      "\u001b[1;32m<ipython-input-2-5d7d21c06b94>\u001b[0m in \u001b[0;36m<module>\u001b[1;34m()\u001b[0m\n\u001b[0;32m      2\u001b[0m \u001b[1;33m\u001b[0m\u001b[0m\n\u001b[0;32m      3\u001b[0m \u001b[1;31m# open Firefox\u001b[0m\u001b[1;33m\u001b[0m\u001b[1;33m\u001b[0m\u001b[0m\n\u001b[1;32m----> 4\u001b[1;33m \u001b[0mbrowser\u001b[0m \u001b[1;33m=\u001b[0m \u001b[0mwebdriver\u001b[0m\u001b[1;33m.\u001b[0m\u001b[0mFirefox\u001b[0m\u001b[1;33m(\u001b[0m\u001b[1;33m)\u001b[0m\u001b[1;33m\u001b[0m\u001b[0m\n\u001b[0m\u001b[0;32m      5\u001b[0m \u001b[1;33m\u001b[0m\u001b[0m\n\u001b[0;32m      6\u001b[0m \u001b[1;31m# go to the web page that we want to scrape from\u001b[0m\u001b[1;33m\u001b[0m\u001b[1;33m\u001b[0m\u001b[0m\n",
      "\u001b[1;32m~\\Anaconda3\\lib\\site-packages\\selenium\\webdriver\\firefox\\webdriver.py\u001b[0m in \u001b[0;36m__init__\u001b[1;34m(self, firefox_profile, firefox_binary, timeout, capabilities, proxy, executable_path, options, log_path, firefox_options, service_args)\u001b[0m\n\u001b[0;32m    150\u001b[0m                 \u001b[0mservice_args\u001b[0m\u001b[1;33m=\u001b[0m\u001b[0mservice_args\u001b[0m\u001b[1;33m,\u001b[0m\u001b[1;33m\u001b[0m\u001b[0m\n\u001b[0;32m    151\u001b[0m                 log_path=log_path)\n\u001b[1;32m--> 152\u001b[1;33m             \u001b[0mself\u001b[0m\u001b[1;33m.\u001b[0m\u001b[0mservice\u001b[0m\u001b[1;33m.\u001b[0m\u001b[0mstart\u001b[0m\u001b[1;33m(\u001b[0m\u001b[1;33m)\u001b[0m\u001b[1;33m\u001b[0m\u001b[0m\n\u001b[0m\u001b[0;32m    153\u001b[0m \u001b[1;33m\u001b[0m\u001b[0m\n\u001b[0;32m    154\u001b[0m             \u001b[0mcapabilities\u001b[0m\u001b[1;33m.\u001b[0m\u001b[0mupdate\u001b[0m\u001b[1;33m(\u001b[0m\u001b[0moptions\u001b[0m\u001b[1;33m.\u001b[0m\u001b[0mto_capabilities\u001b[0m\u001b[1;33m(\u001b[0m\u001b[1;33m)\u001b[0m\u001b[1;33m)\u001b[0m\u001b[1;33m\u001b[0m\u001b[0m\n",
      "\u001b[1;32m~\\Anaconda3\\lib\\site-packages\\selenium\\webdriver\\common\\service.py\u001b[0m in \u001b[0;36mstart\u001b[1;34m(self)\u001b[0m\n\u001b[0;32m     81\u001b[0m                 raise WebDriverException(\n\u001b[0;32m     82\u001b[0m                     \"'%s' executable needs to be in PATH. %s\" % (\n\u001b[1;32m---> 83\u001b[1;33m                         os.path.basename(self.path), self.start_error_message)\n\u001b[0m\u001b[0;32m     84\u001b[0m                 )\n\u001b[0;32m     85\u001b[0m             \u001b[1;32melif\u001b[0m \u001b[0merr\u001b[0m\u001b[1;33m.\u001b[0m\u001b[0merrno\u001b[0m \u001b[1;33m==\u001b[0m \u001b[0merrno\u001b[0m\u001b[1;33m.\u001b[0m\u001b[0mEACCES\u001b[0m\u001b[1;33m:\u001b[0m\u001b[1;33m\u001b[0m\u001b[0m\n",
      "\u001b[1;31mWebDriverException\u001b[0m: Message: 'geckodriver' executable needs to be in PATH. \n"
     ]
    }
   ],
   "source": [
    "# initializing the browser and going to a web page\n",
    "\n",
    "# open Firefox\n",
    "browser = webdriver.Firefox()\n",
    "\n",
    "# go to the web page that we want to scrape from\n",
    "browser.get('http://www.imdb.com/title/tt1490017/')\n",
    "\n",
    "# wait for browser/page to load before doing anything else\n",
    "'''\n",
    "If you don't do this, selenium may get confused while running \n",
    "the next command because whatever object it looks for may not yet be there.\n",
    "So when running a command that will open a new web page it is usually\n",
    "a good idea to sleep for a few seconds.\n",
    "''' \n",
    "time.sleep(2)"
   ]
  },
  {
   "cell_type": "markdown",
   "metadata": {},
   "source": [
    "Selenium allows you to select web page elements in a variety of ways:\n",
    "                                    1. .find_element_by_class_name\n",
    "                                    2. .find_element_by_css_selector\n",
    "                                    3. .find_element_by_id\n",
    "                                    4. .find_element_by_link_text\n",
    "                                    5. .find_element_by_name\n",
    "                                    6. .find_element_by_partial_link_text\n",
    "                                    7. .find_element_by_tag_name\n",
    "                                    8. .find_element_by_xpath"
   ]
  },
  {
   "cell_type": "code",
   "execution_count": null,
   "metadata": {},
   "outputs": [],
   "source": [
    "# Select the table of cast members using \"inspect element\" in your browser\n",
    "table = browser.find_element_by_class_name(\"cast_list\").get_attribute('outerHTML')\n",
    "\n",
    "# use pd.read_html() to read the table in python\n",
    "cast = pd.read_html(table)\n",
    "# returns as a list of one object………\n",
    "print(type(cast))\n",
    "print(len(cast))\n",
    "# ……… that object being, convenienthy, a pandas data frame!\n",
    "print(type(cast[0]))\n",
    "\n",
    "cast_df = cast[0]\n",
    "cast_df"
   ]
  },
  {
   "cell_type": "code",
   "execution_count": null,
   "metadata": {},
   "outputs": [],
   "source": [
    "# close the browser now that we've got the data we need\n",
    "'''\n",
    "just for convenience sake because Selenium opens up a new \n",
    "iteration of Firefox everytime you run it which can get annoying\n",
    "'''\n",
    "browser.close()"
   ]
  },
  {
   "cell_type": "code",
   "execution_count": null,
   "metadata": {},
   "outputs": [],
   "source": [
    "# a little cleaning to make our data frame pretty…\n",
    "\n",
    "# drop the columns with useless information\n",
    "cast_df = cast_df.drop([0,2], 1)\n",
    "\n",
    "# drop the first row of NaN's\n",
    "cast_df = cast_df.drop(cast_df.index[0])\n",
    "\n",
    "# name the columns something descriptive\n",
    "cast_df.columns = ['Actor', 'Role']\n",
    "\n",
    "# voila!\n",
    "cast_df"
   ]
  },
  {
   "cell_type": "markdown",
   "metadata": {},
   "source": [
    "# Example 2: Slack Bot"
   ]
  },
  {
   "cell_type": "code",
   "execution_count": null,
   "metadata": {
    "collapsed": true
   },
   "outputs": [],
   "source": [
    "# first, let's pick a channel and a message to send to that channel\n",
    "\n",
    "# pick your channel\n",
    "channel = 'bot_world'\n",
    "# write a message\n",
    "message = 'Hi there Slack!'"
   ]
  },
  {
   "cell_type": "code",
   "execution_count": null,
   "metadata": {},
   "outputs": [],
   "source": [
    "# open Firefox\n",
    "browser = webdriver.Firefox()\n",
    "\n",
    "# go to the web page that we want to scrape from\n",
    "browser.get('http://slack.com/signin')\n",
    "\n",
    "# wait for browser/page to load before doing anything else\n",
    "time.sleep(2)"
   ]
  },
  {
   "cell_type": "code",
   "execution_count": null,
   "metadata": {
    "collapsed": true
   },
   "outputs": [],
   "source": [
    "# LOGIN\n",
    "\n",
    "# type the slack team name\n",
    "browser.find_element_by_id(\"domain\").send_keys(\"hackcville\")\n",
    "\n",
    "# press continue button\n",
    "browser.find_element_by_id(\"submit_team_domain\").click()\n",
    "\n",
    "# wait for next page to load\n",
    "time.sleep(2)"
   ]
  },
  {
   "cell_type": "code",
   "execution_count": null,
   "metadata": {},
   "outputs": [],
   "source": [
    "# supply username and password for slack\n",
    "email = input(\"Email: \")\n",
    "password = input(\"Password: \")\n",
    "\n",
    "# type username\n",
    "browser.find_element_by_id(\"email\").send_keys(email)\n",
    "# type password\n",
    "browser.find_element_by_id(\"password\").send_keys(password)\n",
    "# click sign in button\n",
    "browser.find_element_by_id(\"signin_btn\").click()\n",
    "\n",
    "# wait for the next page to load\n",
    "time.sleep(15)"
   ]
  },
  {
   "cell_type": "code",
   "execution_count": null,
   "metadata": {},
   "outputs": [],
   "source": [
    "# navigate to the channel you want to write in\n",
    "\n",
    "'''\n",
    "This finds the elements with class name = \"overflow_ellipse\" \n",
    "whithin the element with id = \"channels\" and puts them all in a list.\n",
    "'''\n",
    "# channels = browser.find_element_by_id('channels').find_elements_by_class_name('overflow_ellipsis')\n",
    "\n",
    "channels = browser.find_element_by_id('channels').find_elements_by_class_name('overflow_ellipsis')\n",
    "\n",
    "\n",
    "# lets see what the inner HTML elements look like\n",
    "channels[0].get_attribute('innerHTML')"
   ]
  },
  {
   "cell_type": "code",
   "execution_count": null,
   "metadata": {},
   "outputs": [],
   "source": [
    "# that is ugly ^^^\n",
    "# let's clean it up with .strip() to clear the whitespace in the for loop\n",
    "\n",
    "'''\n",
    "this just iterates through the stripped inner HTML of the items \n",
    "in the 'channels' list until it finds the one we want then clicks it\n",
    "'''\n",
    "for i in range(len(channels)):\n",
    "    if (channels[i].get_attribute('innerHTML').strip() == channel):\n",
    "        # click on the 'bot_world' channel\n",
    "        channels[i].click()\n",
    "        \n",
    "        # break out of the for loop\n",
    "        break"
   ]
  },
  {
   "cell_type": "code",
   "execution_count": null,
   "metadata": {},
   "outputs": [],
   "source": [
    "# find the element for the text bar\n",
    "text_bar = browser.find_element_by_class_name('ql-editor.ql-blank').find_element_by_css_selector('p')\n",
    "# type your message\n",
    "text_bar.send_keys(message)\n",
    "# press enter\n",
    "text_bar.send_keys(u'\\ue007')\n",
    "\n",
    "#you can repeat this cell with different messages to send multiple messages to the channel"
   ]
  },
  {
   "cell_type": "markdown",
   "metadata": {},
   "source": [
    "So if you ever want to write a message to Slack but you're in class and don't want to get called out for not working, just whip out this script and no one will suspect anything."
   ]
  },
  {
   "cell_type": "markdown",
   "metadata": {},
   "source": [
    "## Challenge\n",
    "1. Scrape the entire table by making Selenium press the \"See full cast >>\" button at the bottom of the table which opens up the full cast list, not just the first 15 members.\n",
    "\n",
    "2. Scrape the full cast list from multiple imdb pages by using the search bar to navigate between the pages."
   ]
  },
  {
   "cell_type": "code",
   "execution_count": null,
   "metadata": {
    "collapsed": true
   },
   "outputs": [],
   "source": []
  }
 ],
 "metadata": {
  "kernelspec": {
   "display_name": "Python 3",
   "language": "python",
   "name": "python3"
  },
  "language_info": {
   "codemirror_mode": {
    "name": "ipython",
    "version": 3
   },
   "file_extension": ".py",
   "mimetype": "text/x-python",
   "name": "python",
   "nbconvert_exporter": "python",
   "pygments_lexer": "ipython3",
   "version": "3.6.3"
  }
 },
 "nbformat": 4,
 "nbformat_minor": 2
}
