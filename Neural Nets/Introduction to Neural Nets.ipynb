{
 "cells": [
  {
   "cell_type": "markdown",
   "metadata": {},
   "source": [
    "# Introduction"
   ]
  },
  {
   "cell_type": "markdown",
   "metadata": {},
   "source": [
    "Neural Network introduction video: https://www.youtube.com/watch?v=p69khggr1Jo"
   ]
  },
  {
   "cell_type": "markdown",
   "metadata": {},
   "source": [
    "Now that you (kind of) know what's going on, let's try visualizing things on your own.\n",
    "Tensorflow, created by Google, is one of the most widely used libraries for deep learning. They also have a \"playgound\" where you can mess around with naive datasets and features. See if you can choose the right features and parameters, while designing the architecture of your own Neural Network, to try to minimize the error:\n",
    "\n",
    "https://playground.tensorflow.org/"
   ]
  },
  {
   "cell_type": "markdown",
   "metadata": {},
   "source": [
    "# Let's code..."
   ]
  },
  {
   "cell_type": "markdown",
   "metadata": {},
   "source": [
    "We will be using a python library called Keras. Why not Tensorflow you ask? Tensorflow is designed for full scale deep learning, where you have total control over your model. This sounds great, but also is much more complicated and requires alot of code. Enter Keras. Keras acts as a \"wrapper\" for Tensorflow, where it uses Tensorflow in the behind the scenes, but it does all of the hard work for you. Thus we must have Keras AND Tensorflow installed."
   ]
  },
  {
   "cell_type": "code",
   "execution_count": 11,
   "metadata": {},
   "outputs": [
    {
     "name": "stdout",
     "output_type": "stream",
     "text": [
      "Requirement already satisfied: keras in c:\\users\\trap machine\\anaconda3\\lib\\site-packages\n",
      "Requirement already satisfied: pyyaml in c:\\users\\trap machine\\anaconda3\\lib\\site-packages (from keras)\n",
      "Requirement already satisfied: scipy>=0.14 in c:\\users\\trap machine\\anaconda3\\lib\\site-packages (from keras)\n",
      "Requirement already satisfied: numpy>=1.9.1 in c:\\users\\trap machine\\anaconda3\\lib\\site-packages (from keras)\n",
      "Requirement already satisfied: six>=1.9.0 in c:\\users\\trap machine\\anaconda3\\lib\\site-packages (from keras)\n"
     ]
    },
    {
     "name": "stderr",
     "output_type": "stream",
     "text": [
      "You are using pip version 9.0.1, however version 10.0.0 is available.\n",
      "You should consider upgrading via the 'python -m pip install --upgrade pip' command.\n"
     ]
    },
    {
     "name": "stdout",
     "output_type": "stream",
     "text": [
      "Requirement already satisfied: tensorflow in c:\\users\\trap machine\\anaconda3\\lib\\site-packages\n",
      "Requirement already satisfied: numpy>=1.13.3 in c:\\users\\trap machine\\anaconda3\\lib\\site-packages (from tensorflow)\n",
      "Requirement already satisfied: grpcio>=1.8.6 in c:\\users\\trap machine\\anaconda3\\lib\\site-packages (from tensorflow)\n",
      "Requirement already satisfied: six>=1.10.0 in c:\\users\\trap machine\\anaconda3\\lib\\site-packages (from tensorflow)\n",
      "Requirement already satisfied: wheel>=0.26 in c:\\users\\trap machine\\anaconda3\\lib\\site-packages (from tensorflow)\n",
      "Requirement already satisfied: absl-py>=0.1.6 in c:\\users\\trap machine\\anaconda3\\lib\\site-packages (from tensorflow)\n",
      "Requirement already satisfied: tensorboard<1.8.0,>=1.7.0 in c:\\users\\trap machine\\anaconda3\\lib\\site-packages (from tensorflow)\n",
      "Requirement already satisfied: gast>=0.2.0 in c:\\users\\trap machine\\anaconda3\\lib\\site-packages (from tensorflow)\n",
      "Requirement already satisfied: protobuf>=3.4.0 in c:\\users\\trap machine\\anaconda3\\lib\\site-packages (from tensorflow)\n",
      "Requirement already satisfied: astor>=0.6.0 in c:\\users\\trap machine\\anaconda3\\lib\\site-packages (from tensorflow)\n",
      "Requirement already satisfied: termcolor>=1.1.0 in c:\\users\\trap machine\\anaconda3\\lib\\site-packages (from tensorflow)\n",
      "Requirement already satisfied: markdown>=2.6.8 in c:\\users\\trap machine\\anaconda3\\lib\\site-packages (from tensorboard<1.8.0,>=1.7.0->tensorflow)\n",
      "Requirement already satisfied: bleach==1.5.0 in c:\\users\\trap machine\\anaconda3\\lib\\site-packages (from tensorboard<1.8.0,>=1.7.0->tensorflow)\n",
      "Requirement already satisfied: werkzeug>=0.11.10 in c:\\users\\trap machine\\anaconda3\\lib\\site-packages (from tensorboard<1.8.0,>=1.7.0->tensorflow)\n",
      "Requirement already satisfied: html5lib==0.9999999 in c:\\users\\trap machine\\anaconda3\\lib\\site-packages (from tensorboard<1.8.0,>=1.7.0->tensorflow)\n",
      "Requirement already satisfied: setuptools in c:\\users\\trap machine\\anaconda3\\lib\\site-packages (from protobuf>=3.4.0->tensorflow)\n"
     ]
    },
    {
     "name": "stderr",
     "output_type": "stream",
     "text": [
      "You are using pip version 9.0.1, however version 10.0.0 is available.\n",
      "You should consider upgrading via the 'python -m pip install --upgrade pip' command.\n"
     ]
    }
   ],
   "source": [
    "# reference: https://keras.io/#installation\n",
    "!pip install keras\n",
    "!pip install tensorflow"
   ]
  },
  {
   "cell_type": "markdown",
   "metadata": {},
   "source": [
    "Our data comes from a classic ML problem concerning Pima Native Americans and predicting cases of Diabetes using 8 different health-related features."
   ]
  },
  {
   "cell_type": "code",
   "execution_count": 12,
   "metadata": {
    "collapsed": true
   },
   "outputs": [],
   "source": [
    "import numpy as np\n",
    "# fix random seed for reproducibility\n",
    "RANDOM_SEED = 7\n",
    "np.random.seed(RANDOM_SEED)\n",
    "\n",
    "# load pima indians dataset\n",
    "# make sure csv is in same directory as this notebook\n",
    "dataset = np.loadtxt(\"pima-indians-diabetes.data.csv\", delimiter=\",\")\n",
    "# split into input (X) and output (Y) variables\n",
    "X = dataset[:,0:8]\n",
    "Y = dataset[:,8]"
   ]
  },
  {
   "cell_type": "code",
   "execution_count": 2,
   "metadata": {},
   "outputs": [
    {
     "name": "stdout",
     "output_type": "stream",
     "text": [
      "(768, 8)\n",
      "(768,)\n"
     ]
    }
   ],
   "source": [
    "print(X.shape)\n",
    "print(Y.shape)"
   ]
  },
  {
   "cell_type": "code",
   "execution_count": 13,
   "metadata": {
    "collapsed": true
   },
   "outputs": [],
   "source": [
    "from sklearn.model_selection import train_test_split\n",
    "\n",
    "x_train, x_test, y_train, y_test = train_test_split(X, Y, test_size=0.1, random_state=RANDOM_SEED)"
   ]
  },
  {
   "cell_type": "markdown",
   "metadata": {},
   "source": [
    "### Building the Model:"
   ]
  },
  {
   "cell_type": "code",
   "execution_count": 15,
   "metadata": {},
   "outputs": [],
   "source": [
    "from keras.models import Sequential\n",
    "from keras.layers import Dense\n",
    "\n",
    "# create model\n",
    "model = Sequential()\n",
    "\n",
    "# Dense layers are \"fully connected layers\"\n",
    "model.add(Dense(12, input_dim=8, activation='relu'))\n",
    "model.add(Dense(8, activation='relu'))\n",
    "model.add(Dense(1, activation='sigmoid'))"
   ]
  },
  {
   "cell_type": "markdown",
   "metadata": {},
   "source": [
    "Sooo wtf is an activation function? 4 reasons for them (there are more, probably):\n",
    "\n",
    "1. Introducing non-linearity into our model, otherwise it's just a fat linear model\n",
    "2. Determining/restricting the output of our model\n",
    "3. Helps with exploding/vanishing gradients\n",
    "4. Decides when a neuron should \"fire\"\n",
    "\n",
    "Read more here (awesome blog in general): https://towardsdatascience.com/activation-functions-neural-networks-1cbd9f8d91d6"
   ]
  },
  {
   "cell_type": "markdown",
   "metadata": {},
   "source": [
    "![](nn_img.png)"
   ]
  },
  {
   "cell_type": "code",
   "execution_count": 17,
   "metadata": {},
   "outputs": [
    {
     "name": "stdout",
     "output_type": "stream",
     "text": [
      "Epoch 1/100\n",
      "691/691 [==============================] - 0s 367us/step - loss: 0.5341 - acc: 0.7265\n",
      "Epoch 2/100\n",
      "691/691 [==============================] - 0s 99us/step - loss: 0.5243 - acc: 0.7352\n",
      "Epoch 3/100\n",
      "691/691 [==============================] - 0s 100us/step - loss: 0.5265 - acc: 0.7395\n",
      "Epoch 4/100\n",
      "691/691 [==============================] - 0s 103us/step - loss: 0.5213 - acc: 0.7424\n",
      "Epoch 5/100\n",
      "691/691 [==============================] - 0s 103us/step - loss: 0.5104 - acc: 0.7554\n",
      "Epoch 6/100\n",
      "691/691 [==============================] - 0s 103us/step - loss: 0.5609 - acc: 0.7091\n",
      "Epoch 7/100\n",
      "691/691 [==============================] - 0s 104us/step - loss: 0.5915 - acc: 0.7149\n",
      "Epoch 8/100\n",
      "691/691 [==============================] - 0s 107us/step - loss: 0.5261 - acc: 0.7438\n",
      "Epoch 9/100\n",
      "691/691 [==============================] - 0s 103us/step - loss: 0.5160 - acc: 0.7438\n",
      "Epoch 10/100\n",
      "691/691 [==============================] - 0s 102us/step - loss: 0.5061 - acc: 0.7482\n",
      "Epoch 11/100\n",
      "691/691 [==============================] - 0s 106us/step - loss: 0.5272 - acc: 0.7554\n",
      "Epoch 12/100\n",
      "691/691 [==============================] - 0s 102us/step - loss: 0.5186 - acc: 0.7511\n",
      "Epoch 13/100\n",
      "691/691 [==============================] - 0s 93us/step - loss: 0.5151 - acc: 0.7438\n",
      "Epoch 14/100\n",
      "691/691 [==============================] - 0s 96us/step - loss: 0.5223 - acc: 0.7279\n",
      "Epoch 15/100\n",
      "691/691 [==============================] - 0s 93us/step - loss: 0.5164 - acc: 0.7525\n",
      "Epoch 16/100\n",
      "691/691 [==============================] - 0s 93us/step - loss: 0.5107 - acc: 0.7627\n",
      "Epoch 17/100\n",
      "691/691 [==============================] - 0s 94us/step - loss: 0.5044 - acc: 0.7554\n",
      "Epoch 18/100\n",
      "691/691 [==============================] - 0s 96us/step - loss: 0.5137 - acc: 0.7294\n",
      "Epoch 19/100\n",
      "691/691 [==============================] - 0s 87us/step - loss: 0.5224 - acc: 0.7395\n",
      "Epoch 20/100\n",
      "691/691 [==============================] - 0s 89us/step - loss: 0.4976 - acc: 0.7598\n",
      "Epoch 21/100\n",
      "691/691 [==============================] - 0s 84us/step - loss: 0.5208 - acc: 0.7569\n",
      "Epoch 22/100\n",
      "691/691 [==============================] - 0s 89us/step - loss: 0.5099 - acc: 0.7598\n",
      "Epoch 23/100\n",
      "691/691 [==============================] - 0s 86us/step - loss: 0.5320 - acc: 0.7410\n",
      "Epoch 24/100\n",
      "691/691 [==============================] - 0s 84us/step - loss: 0.4984 - acc: 0.7656\n",
      "Epoch 25/100\n",
      "691/691 [==============================] - 0s 87us/step - loss: 0.5182 - acc: 0.7482\n",
      "Epoch 26/100\n",
      "691/691 [==============================] - 0s 89us/step - loss: 0.5044 - acc: 0.7612\n",
      "Epoch 27/100\n",
      "691/691 [==============================] - 0s 87us/step - loss: 0.4937 - acc: 0.7453\n",
      "Epoch 28/100\n",
      "691/691 [==============================] - 0s 86us/step - loss: 0.4998 - acc: 0.7540\n",
      "Epoch 29/100\n",
      "691/691 [==============================] - 0s 89us/step - loss: 0.5121 - acc: 0.7366\n",
      "Epoch 30/100\n",
      "691/691 [==============================] - 0s 86us/step - loss: 0.5178 - acc: 0.7453\n",
      "Epoch 31/100\n",
      "691/691 [==============================] - 0s 90us/step - loss: 0.5053 - acc: 0.7598\n",
      "Epoch 32/100\n",
      "691/691 [==============================] - 0s 90us/step - loss: 0.4888 - acc: 0.7598\n",
      "Epoch 33/100\n",
      "691/691 [==============================] - 0s 84us/step - loss: 0.4894 - acc: 0.7424\n",
      "Epoch 34/100\n",
      "691/691 [==============================] - 0s 86us/step - loss: 0.4991 - acc: 0.7641\n",
      "Epoch 35/100\n",
      "691/691 [==============================] - 0s 90us/step - loss: 0.4900 - acc: 0.7627\n",
      "Epoch 36/100\n",
      "691/691 [==============================] - 0s 84us/step - loss: 0.4990 - acc: 0.7554\n",
      "Epoch 37/100\n",
      "691/691 [==============================] - 0s 87us/step - loss: 0.4917 - acc: 0.7685\n",
      "Epoch 38/100\n",
      "691/691 [==============================] - 0s 90us/step - loss: 0.5151 - acc: 0.7453\n",
      "Epoch 39/100\n",
      "691/691 [==============================] - 0s 87us/step - loss: 0.4778 - acc: 0.7742\n",
      "Epoch 40/100\n",
      "691/691 [==============================] - 0s 87us/step - loss: 0.5175 - acc: 0.7627\n",
      "Epoch 41/100\n",
      "691/691 [==============================] - 0s 86us/step - loss: 0.4938 - acc: 0.7612\n",
      "Epoch 42/100\n",
      "691/691 [==============================] - 0s 99us/step - loss: 0.4935 - acc: 0.7583\n",
      "Epoch 43/100\n",
      "691/691 [==============================] - 0s 90us/step - loss: 0.4961 - acc: 0.7598\n",
      "Epoch 44/100\n",
      "691/691 [==============================] - 0s 86us/step - loss: 0.5026 - acc: 0.7569\n",
      "Epoch 45/100\n",
      "691/691 [==============================] - 0s 99us/step - loss: 0.4945 - acc: 0.7583\n",
      "Epoch 46/100\n",
      "691/691 [==============================] - 0s 86us/step - loss: 0.4913 - acc: 0.7612\n",
      "Epoch 47/100\n",
      "691/691 [==============================] - 0s 90us/step - loss: 0.4962 - acc: 0.7598\n",
      "Epoch 48/100\n",
      "691/691 [==============================] - 0s 91us/step - loss: 0.5117 - acc: 0.7496\n",
      "Epoch 49/100\n",
      "691/691 [==============================] - 0s 89us/step - loss: 0.4968 - acc: 0.7757\n",
      "Epoch 50/100\n",
      "691/691 [==============================] - 0s 87us/step - loss: 0.4904 - acc: 0.7641\n",
      "Epoch 51/100\n",
      "691/691 [==============================] - 0s 86us/step - loss: 0.4922 - acc: 0.7569\n",
      "Epoch 52/100\n",
      "691/691 [==============================] - 0s 86us/step - loss: 0.4801 - acc: 0.7612\n",
      "Epoch 53/100\n",
      "691/691 [==============================] - 0s 86us/step - loss: 0.4718 - acc: 0.7815\n",
      "Epoch 54/100\n",
      "691/691 [==============================] - 0s 87us/step - loss: 0.4934 - acc: 0.7583\n",
      "Epoch 55/100\n",
      "691/691 [==============================] - 0s 89us/step - loss: 0.5037 - acc: 0.7438\n",
      "Epoch 56/100\n",
      "691/691 [==============================] - 0s 93us/step - loss: 0.4782 - acc: 0.7685\n",
      "Epoch 57/100\n",
      "691/691 [==============================] - 0s 86us/step - loss: 0.4894 - acc: 0.7641\n",
      "Epoch 58/100\n",
      "691/691 [==============================] - 0s 86us/step - loss: 0.5042 - acc: 0.7670\n",
      "Epoch 59/100\n",
      "691/691 [==============================] - 0s 87us/step - loss: 0.4820 - acc: 0.7829\n",
      "Epoch 60/100\n",
      "691/691 [==============================] - 0s 86us/step - loss: 0.4964 - acc: 0.7554\n",
      "Epoch 61/100\n",
      "691/691 [==============================] - 0s 84us/step - loss: 0.5303 - acc: 0.7482\n",
      "Epoch 62/100\n",
      "691/691 [==============================] - 0s 84us/step - loss: 0.5004 - acc: 0.7525\n",
      "Epoch 63/100\n",
      "691/691 [==============================] - 0s 86us/step - loss: 0.4918 - acc: 0.7641\n",
      "Epoch 64/100\n",
      "691/691 [==============================] - 0s 86us/step - loss: 0.4782 - acc: 0.7771\n",
      "Epoch 65/100\n",
      "691/691 [==============================] - 0s 86us/step - loss: 0.4760 - acc: 0.7728\n",
      "Epoch 66/100\n",
      "691/691 [==============================] - 0s 86us/step - loss: 0.4702 - acc: 0.7713\n",
      "Epoch 67/100\n",
      "691/691 [==============================] - 0s 86us/step - loss: 0.4918 - acc: 0.7685\n",
      "Epoch 68/100\n",
      "691/691 [==============================] - 0s 86us/step - loss: 0.4693 - acc: 0.7786\n",
      "Epoch 69/100\n",
      "691/691 [==============================] - 0s 84us/step - loss: 0.4839 - acc: 0.7728\n",
      "Epoch 70/100\n",
      "691/691 [==============================] - 0s 83us/step - loss: 0.7439 - acc: 0.7395\n",
      "Epoch 71/100\n",
      "691/691 [==============================] - 0s 84us/step - loss: 0.5825 - acc: 0.7656\n",
      "Epoch 72/100\n",
      "691/691 [==============================] - 0s 86us/step - loss: 0.4729 - acc: 0.7742\n",
      "Epoch 73/100\n",
      "691/691 [==============================] - 0s 90us/step - loss: 0.4810 - acc: 0.7728\n",
      "Epoch 74/100\n",
      "691/691 [==============================] - 0s 86us/step - loss: 0.4940 - acc: 0.7742\n",
      "Epoch 75/100\n",
      "691/691 [==============================] - 0s 87us/step - loss: 0.4779 - acc: 0.7713\n",
      "Epoch 76/100\n",
      "691/691 [==============================] - 0s 86us/step - loss: 0.4745 - acc: 0.7829\n",
      "Epoch 77/100\n",
      "691/691 [==============================] - 0s 89us/step - loss: 0.4643 - acc: 0.7844\n",
      "Epoch 78/100\n",
      "691/691 [==============================] - 0s 87us/step - loss: 0.4871 - acc: 0.7525\n",
      "Epoch 79/100\n",
      "691/691 [==============================] - 0s 86us/step - loss: 0.4706 - acc: 0.7699\n",
      "Epoch 80/100\n",
      "691/691 [==============================] - 0s 86us/step - loss: 0.4623 - acc: 0.7931\n",
      "Epoch 81/100\n",
      "691/691 [==============================] - 0s 86us/step - loss: 0.4690 - acc: 0.7771\n",
      "Epoch 82/100\n",
      "691/691 [==============================] - 0s 87us/step - loss: 0.5132 - acc: 0.7438\n",
      "Epoch 83/100\n",
      "691/691 [==============================] - 0s 84us/step - loss: 0.4857 - acc: 0.7670\n",
      "Epoch 84/100\n"
     ]
    },
    {
     "name": "stdout",
     "output_type": "stream",
     "text": [
      "691/691 [==============================] - 0s 89us/step - loss: 0.4721 - acc: 0.7873\n",
      "Epoch 85/100\n",
      "691/691 [==============================] - 0s 86us/step - loss: 0.4572 - acc: 0.7931\n",
      "Epoch 86/100\n",
      "691/691 [==============================] - 0s 83us/step - loss: 0.4759 - acc: 0.7699\n",
      "Epoch 87/100\n",
      "691/691 [==============================] - 0s 83us/step - loss: 0.4660 - acc: 0.7858\n",
      "Epoch 88/100\n",
      "691/691 [==============================] - 0s 84us/step - loss: 0.4795 - acc: 0.7713\n",
      "Epoch 89/100\n",
      "691/691 [==============================] - 0s 80us/step - loss: 0.4693 - acc: 0.7685\n",
      "Epoch 90/100\n",
      "691/691 [==============================] - 0s 86us/step - loss: 0.4640 - acc: 0.7757\n",
      "Epoch 91/100\n",
      "691/691 [==============================] - 0s 83us/step - loss: 0.4719 - acc: 0.7757\n",
      "Epoch 92/100\n",
      "691/691 [==============================] - 0s 86us/step - loss: 0.4631 - acc: 0.7713\n",
      "Epoch 93/100\n",
      "691/691 [==============================] - 0s 83us/step - loss: 0.4786 - acc: 0.7742\n",
      "Epoch 94/100\n",
      "691/691 [==============================] - 0s 84us/step - loss: 0.4691 - acc: 0.7713\n",
      "Epoch 95/100\n",
      "691/691 [==============================] - 0s 81us/step - loss: 0.4719 - acc: 0.7713\n",
      "Epoch 96/100\n",
      "691/691 [==============================] - 0s 83us/step - loss: 0.4687 - acc: 0.7742\n",
      "Epoch 97/100\n",
      "691/691 [==============================] - 0s 84us/step - loss: 0.4540 - acc: 0.7728\n",
      "Epoch 98/100\n",
      "691/691 [==============================] - 0s 86us/step - loss: 0.4708 - acc: 0.7670\n",
      "Epoch 99/100\n",
      "691/691 [==============================] - 0s 81us/step - loss: 0.4748 - acc: 0.7583\n",
      "Epoch 100/100\n",
      "691/691 [==============================] - 0s 83us/step - loss: 0.4809 - acc: 0.7612\n"
     ]
    },
    {
     "data": {
      "text/plain": [
       "<keras.callbacks.History at 0x18805c2b828>"
      ]
     },
     "execution_count": 17,
     "metadata": {},
     "output_type": "execute_result"
    }
   ],
   "source": [
    "# Compile model\n",
    "# Here we are finalizing the structure of our model and outlining:\n",
    "# 1. Loss function: how we are calucalting the performance of our model\n",
    "# 2. Optimizer: the function we will use to update the weights and biases while trying to minimize the loss function\n",
    "# 3. Metrics: how we are scoring our model\n",
    "model.compile(loss='binary_crossentropy', optimizer='adam', metrics=['accuracy'])\n",
    "\n",
    "# Fit the model\n",
    "# When we are training, we are attempting to learn the weight and bias parameters\n",
    "# 3 choices for training: stochasitc, batch, or mini-batch (most common)\n",
    "model.fit(x_train, y_train, epochs=100, batch_size=10)"
   ]
  },
  {
   "cell_type": "code",
   "execution_count": 18,
   "metadata": {},
   "outputs": [
    {
     "name": "stdout",
     "output_type": "stream",
     "text": [
      "77/77 [==============================] - 0s 573us/step\n",
      "\n",
      "acc: 77.92%\n"
     ]
    }
   ],
   "source": [
    "# switch to train and test\n",
    "\n",
    "# evaluate the model\n",
    "scores = model.evaluate(x_test, y_test)\n",
    "print(\"\\n%s: %.2f%%\" % (model.metrics_names[1], scores[1]*100))"
   ]
  },
  {
   "cell_type": "markdown",
   "metadata": {},
   "source": [
    "Usually there is a lot more work to do on the data cleaning side of things, but this notebook shows how easy it is to prototype a neural net using Keras!"
   ]
  },
  {
   "cell_type": "markdown",
   "metadata": {
    "collapsed": true
   },
   "source": [
    "###### So why use Neural Networks???"
   ]
  },
  {
   "cell_type": "markdown",
   "metadata": {},
   "source": [
    "1. Perform better with larger amounts of data, and we live in a data rich world\n",
    "2. Rise in computational power\n",
    "3. Algorithms and hype"
   ]
  },
  {
   "cell_type": "markdown",
   "metadata": {},
   "source": [
    "But also a double-edged sword..."
   ]
  },
  {
   "cell_type": "markdown",
   "metadata": {},
   "source": [
    "1. Black Box\n",
    "2. Not enough data sometimes\n",
    "3. Computationally expensive"
   ]
  },
  {
   "cell_type": "code",
   "execution_count": null,
   "metadata": {
    "collapsed": true
   },
   "outputs": [],
   "source": []
  }
 ],
 "metadata": {
  "kernelspec": {
   "display_name": "Python 3",
   "language": "python",
   "name": "python3"
  },
  "language_info": {
   "codemirror_mode": {
    "name": "ipython",
    "version": 3
   },
   "file_extension": ".py",
   "mimetype": "text/x-python",
   "name": "python",
   "nbconvert_exporter": "python",
   "pygments_lexer": "ipython3",
   "version": "3.6.3"
  }
 },
 "nbformat": 4,
 "nbformat_minor": 2
}
