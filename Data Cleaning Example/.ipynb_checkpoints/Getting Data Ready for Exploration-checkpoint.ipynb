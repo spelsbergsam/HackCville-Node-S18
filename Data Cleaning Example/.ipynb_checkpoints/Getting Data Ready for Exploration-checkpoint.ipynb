{
 "cells": [
  {
   "cell_type": "markdown",
   "metadata": {},
   "source": [
    "# Cleaning the NHIS Sleep Data Set and Dealing with NaN Values"
   ]
  },
  {
   "cell_type": "code",
   "execution_count": 1,
   "metadata": {},
   "outputs": [],
   "source": [
    "import numpy as np\n",
    "import pandas as pd"
   ]
  },
  {
   "cell_type": "code",
   "execution_count": 3,
   "metadata": {},
   "outputs": [
    {
     "name": "stdout",
     "output_type": "stream",
     "text": [
      "<class 'pandas.core.frame.DataFrame'>\n",
      "RangeIndex: 4785 entries, 0 to 4784\n",
      "Data columns (total 9 columns):\n",
      "HHX       4785 non-null int64\n",
      "FMX       4785 non-null int64\n",
      "FPX       4785 non-null int64\n",
      "SEX       4785 non-null int64\n",
      "BMI       4785 non-null float64\n",
      "SLEEP     4785 non-null object\n",
      "educ      4785 non-null int64\n",
      "height    4785 non-null int64\n",
      "weight    4785 non-null int64\n",
      "dtypes: float64(1), int64(7), object(1)\n",
      "memory usage: 336.5+ KB\n"
     ]
    }
   ],
   "source": [
    "# Import the dataset\n",
    "\n",
    "nhis = pd.read_csv('NHIS_2007.csv')\n",
    "\n",
    "# Let's look at the dataset info\n",
    "nhis.info()"
   ]
  },
  {
   "cell_type": "markdown",
   "metadata": {},
   "source": [
    "Notice that the 'SLEEP' column is an object when it should be numeric."
   ]
  },
  {
   "cell_type": "code",
   "execution_count": null,
   "metadata": {},
   "outputs": [],
   "source": [
    "# Let's see what the data looks like\n",
    "\n",
    "nhis.head()"
   ]
  },
  {
   "cell_type": "markdown",
   "metadata": {},
   "source": [
    "The question marks in SLEEP are keeping the column from being numeric.\n",
    "\n",
    "Let's fix the problem of SLEEP being a column of objects by replacing \n",
    "the ?'s with NaN's and convert the column to numeric"
   ]
  },
  {
   "cell_type": "code",
   "execution_count": null,
   "metadata": {
    "scrolled": false
   },
   "outputs": [],
   "source": [
    "# Replace ?'s with NaN's\n",
    "nhis.replace('?', np.nan, inplace = True)\n",
    "\n",
    "# Convert the items in SLEEP to numeric using .apply()\n",
    "nhis['SLEEP'] = pd.to_numeric(nhis['SLEEP'])\n",
    "\n",
    "nhis.head()"
   ]
  },
  {
   "cell_type": "code",
   "execution_count": null,
   "metadata": {},
   "outputs": [],
   "source": [
    "# Make sure we fixed the problem\n",
    "\n",
    "nhis.info()"
   ]
  },
  {
   "cell_type": "code",
   "execution_count": null,
   "metadata": {},
   "outputs": [],
   "source": [
    "# Let's look at the stats for each column\n",
    "\n",
    "nhis.describe()"
   ]
  },
  {
   "cell_type": "code",
   "execution_count": null,
   "metadata": {
    "scrolled": false
   },
   "outputs": [],
   "source": [
    "import matplotlib.pyplot as plt\n",
    "\n",
    "# plotting all of the histograms\n",
    "for col in nhis:\n",
    "    plt.hist(nhis[col], range = [min(nhis[col]), max(nhis[col])])\n",
    "    plt.title(col)\n",
    "    plt.show()"
   ]
  },
  {
   "cell_type": "markdown",
   "metadata": {},
   "source": [
    "Notice how there are some values in the histograms that don't seem to belong with the rest of the data. These are likely incorrect values."
   ]
  },
  {
   "cell_type": "code",
   "execution_count": null,
   "metadata": {},
   "outputs": [],
   "source": [
    "# Let's fix the errant values in BMI\n",
    "\n",
    "# Use the np.where() function to convert all of the values in BMI that are greater than 80 to NaN values\n",
    "nhis['BMI'] = np.where(nhis['BMI'] > 80, np.nan, nhis['BMI'])\n",
    "\n",
    "# Plot the histogram\n",
    "plt.hist(nhis['BMI'], range = [min(nhis['BMI']), max(nhis['BMI'])])\n",
    "plt.title('BMI')\n",
    "plt.show()\n",
    "nhis.describe()"
   ]
  },
  {
   "cell_type": "code",
   "execution_count": null,
   "metadata": {
    "scrolled": true
   },
   "outputs": [],
   "source": [
    "# Let's fix the rest of the columns with errant values\n",
    "\n",
    "nhis['SLEEP'] = np.where(nhis['SLEEP'] > 24, np.nan, nhis['SLEEP'])\n",
    "nhis['educ'] = np.where(nhis['educ'] > 40, np.nan, nhis['educ'])\n",
    "nhis['height'] = np.where(nhis['height'] > 80, np.nan, nhis['height'])\n",
    "nhis['weight'] = np.where(nhis['weight'] > 400, np.nan, nhis['weight'])\n",
    "\n",
    "\n",
    "# Let's look at the histograms again to make sure that did things correctly\n",
    "for col in nhis:\n",
    "    plt.hist(nhis[col], range = [min(nhis[col]), max(nhis[col])])\n",
    "    plt.title(col)\n",
    "    plt.show()"
   ]
  },
  {
   "cell_type": "markdown",
   "metadata": {},
   "source": [
    "Another thing to notice from the data is that there is a male/female column which is represented by numbers. Let's make that column categorical with identifiers \"F\" and \"M\".\n",
    "\n",
    "Our first problem is figuring out which values coorespond to male, and which coorespond to female. For that, Let's make a scatter plot with SEX and weight with the assumption that men weigh more on average than females."
   ]
  },
  {
   "cell_type": "code",
   "execution_count": null,
   "metadata": {},
   "outputs": [],
   "source": [
    "plt.scatter(x = nhis['weight'], y = nhis['SEX'])\n",
    "plt.ylabel('sex')\n",
    "plt.xlabel('weight')\n",
    "plt.show()"
   ]
  },
  {
   "cell_type": "code",
   "execution_count": null,
   "metadata": {},
   "outputs": [],
   "source": [
    "plt.scatter(x = nhis['height'], y = nhis['SEX'])\n",
    "plt.show()"
   ]
  },
  {
   "cell_type": "markdown",
   "metadata": {},
   "source": [
    "Based on the plot, higher values seem to coorespond to females, and the higher values seem to coorespond to males.\n",
    "\n",
    "Using that knowlege, Let's turn all of the values in the SEX collumn that are higher than 1.5 equal to the string \"F\", and the values below 1.5 equal to the string \"M\"."
   ]
  },
  {
   "cell_type": "code",
   "execution_count": null,
   "metadata": {},
   "outputs": [],
   "source": [
    "nhis['SEX'] = np.where(nhis['SEX'] == 1, 'M', 'F')\n",
    "nhis.head()"
   ]
  },
  {
   "cell_type": "code",
   "execution_count": null,
   "metadata": {},
   "outputs": [],
   "source": [
    "nhis.info()"
   ]
  },
  {
   "cell_type": "markdown",
   "metadata": {},
   "source": [
    "### Dealing with the missing (NaN) values\n",
    "\n",
    "There are a few ways in which you can deal with missing data:\n",
    "\n",
    "##### 1\\. Removing the rows with NaN values\n",
    "    \n",
    "This is only really valid when a relatively small postion of your dataset contains NaN's. It is never ideal to lose data points.\n",
    "    \n",
    "##### 2\\. Removing the columns with NaN values\n",
    "    \n",
    "If only one or two non-essential columns contain all of the NaN velues, it can sometimes be effective to just remove those columns from the data inorder to save the others.\n",
    "\n",
    "##### 3\\. Imputation\n",
    "\n",
    "Imputation is something that you could learn about for an entire semester (at least), but its basic definition is the replacement of values based on some estimation. There are different types of imputation: simple/single imputation, and multiple imputation. Simple imputation uses a single estimate to guess what a missing value should be. Examples of this are overall mean imputation, k-nearest-neighbors imputation, and linear regression. Multiple imputation uses multiple estimates to guess what the missing value should be. Multiple imputation methods are almost always more effective but are also far more complicated. A commonly used method for multiple imputation is MICE imputation which I encourage you to look up if you are interested."
   ]
  },
  {
   "cell_type": "code",
   "execution_count": null,
   "metadata": {
    "collapsed": true
   },
   "outputs": [],
   "source": []
  }
 ],
 "metadata": {
  "kernelspec": {
   "display_name": "Python 3",
   "language": "python",
   "name": "python3"
  },
  "language_info": {
   "codemirror_mode": {
    "name": "ipython",
    "version": 3
   },
   "file_extension": ".py",
   "mimetype": "text/x-python",
   "name": "python",
   "nbconvert_exporter": "python",
   "pygments_lexer": "ipython3",
   "version": "3.6.3"
  }
 },
 "nbformat": 4,
 "nbformat_minor": 2
}
