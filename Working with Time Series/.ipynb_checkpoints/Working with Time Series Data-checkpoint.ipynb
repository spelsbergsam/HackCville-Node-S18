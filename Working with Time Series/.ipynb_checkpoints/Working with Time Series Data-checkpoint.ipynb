{
 "cells": [
  {
   "cell_type": "markdown",
   "metadata": {},
   "source": [
    "# Time Series Data\n",
    "\n",
    "Wikipedia definition of **Time Series**: \n",
    "\n",
    "            A time series is a series of data points indexed in time order. Most commonly, a\n",
    "            time series is a sequence taken at successive equally spaced points in time. Thus it is a sequence of\n",
    "            discrete-time data."
   ]
  },
  {
   "cell_type": "code",
   "execution_count": 1,
   "metadata": {
    "collapsed": true
   },
   "outputs": [],
   "source": [
    "import numpy as np\n",
    "import pandas as pd"
   ]
  },
  {
   "cell_type": "markdown",
   "metadata": {},
   "source": [
    "For this example we will use my Apple Health data…"
   ]
  },
  {
   "cell_type": "code",
   "execution_count": 3,
   "metadata": {},
   "outputs": [
    {
     "data": {
      "text/html": [
       "<div>\n",
       "<style>\n",
       "    .dataframe thead tr:only-child th {\n",
       "        text-align: right;\n",
       "    }\n",
       "\n",
       "    .dataframe thead th {\n",
       "        text-align: left;\n",
       "    }\n",
       "\n",
       "    .dataframe tbody tr th {\n",
       "        vertical-align: top;\n",
       "    }\n",
       "</style>\n",
       "<table border=\"1\" class=\"dataframe\">\n",
       "  <thead>\n",
       "    <tr style=\"text-align: right;\">\n",
       "      <th></th>\n",
       "      <th>timestamp</th>\n",
       "      <th>Distance (mi)</th>\n",
       "      <th>Flights Climbed (count)</th>\n",
       "      <th>Steps (count)</th>\n",
       "    </tr>\n",
       "  </thead>\n",
       "  <tbody>\n",
       "    <tr>\n",
       "      <th>0</th>\n",
       "      <td>25-Dec-2014 11:00</td>\n",
       "      <td>0.012564</td>\n",
       "      <td>0.0</td>\n",
       "      <td>26.0</td>\n",
       "    </tr>\n",
       "    <tr>\n",
       "      <th>1</th>\n",
       "      <td>25-Dec-2014 12:00</td>\n",
       "      <td>0.005201</td>\n",
       "      <td>0.0</td>\n",
       "      <td>11.0</td>\n",
       "    </tr>\n",
       "    <tr>\n",
       "      <th>2</th>\n",
       "      <td>25-Dec-2014 13:00</td>\n",
       "      <td>0.023413</td>\n",
       "      <td>0.0</td>\n",
       "      <td>52.0</td>\n",
       "    </tr>\n",
       "    <tr>\n",
       "      <th>3</th>\n",
       "      <td>25-Dec-2014 14:00</td>\n",
       "      <td>0.032492</td>\n",
       "      <td>0.0</td>\n",
       "      <td>69.0</td>\n",
       "    </tr>\n",
       "    <tr>\n",
       "      <th>4</th>\n",
       "      <td>25-Dec-2014 15:00</td>\n",
       "      <td>0.002653</td>\n",
       "      <td>0.0</td>\n",
       "      <td>7.0</td>\n",
       "    </tr>\n",
       "  </tbody>\n",
       "</table>\n",
       "</div>"
      ],
      "text/plain": [
       "           timestamp  Distance (mi)  Flights Climbed (count)  Steps (count)\n",
       "0  25-Dec-2014 11:00       0.012564                      0.0           26.0\n",
       "1  25-Dec-2014 12:00       0.005201                      0.0           11.0\n",
       "2  25-Dec-2014 13:00       0.023413                      0.0           52.0\n",
       "3  25-Dec-2014 14:00       0.032492                      0.0           69.0\n",
       "4  25-Dec-2014 15:00       0.002653                      0.0            7.0"
      ]
     },
     "execution_count": 3,
     "metadata": {},
     "output_type": "execute_result"
    }
   ],
   "source": [
    "df = pd.read_csv('HealthData.csv')\n",
    "\n",
    "df.head()"
   ]
  },
  {
   "cell_type": "markdown",
   "metadata": {},
   "source": [
    "First, look at the data type of the columns…"
   ]
  },
  {
   "cell_type": "code",
   "execution_count": 4,
   "metadata": {},
   "outputs": [
    {
     "name": "stdout",
     "output_type": "stream",
     "text": [
      "<class 'pandas.core.frame.DataFrame'>\n",
      "RangeIndex: 27435 entries, 0 to 27434\n",
      "Data columns (total 4 columns):\n",
      "timestamp                  27435 non-null object\n",
      "Distance (mi)              27435 non-null float64\n",
      "Flights Climbed (count)    27435 non-null float64\n",
      "Steps (count)              27435 non-null float64\n",
      "dtypes: float64(3), object(1)\n",
      "memory usage: 857.4+ KB\n"
     ]
    }
   ],
   "source": [
    "df.info()"
   ]
  },
  {
   "cell_type": "markdown",
   "metadata": {},
   "source": [
    "### Create your DateTime Object\n",
    "\n",
    "Notice that the data type of the 'Date' column is object. We will have to convert the data type of the column to datetime in order to use the special properties of the datetime data type…"
   ]
  },
  {
   "cell_type": "code",
   "execution_count": 5,
   "metadata": {},
   "outputs": [
    {
     "name": "stdout",
     "output_type": "stream",
     "text": [
      "<class 'pandas.core.frame.DataFrame'>\n",
      "RangeIndex: 27435 entries, 0 to 27434\n",
      "Data columns (total 4 columns):\n",
      "timestamp                  27435 non-null datetime64[ns]\n",
      "Distance (mi)              27435 non-null float64\n",
      "Flights Climbed (count)    27435 non-null float64\n",
      "Steps (count)              27435 non-null float64\n",
      "dtypes: datetime64[ns](1), float64(3)\n",
      "memory usage: 857.4 KB\n",
      "None\n"
     ]
    },
    {
     "data": {
      "text/html": [
       "<div>\n",
       "<style>\n",
       "    .dataframe thead tr:only-child th {\n",
       "        text-align: right;\n",
       "    }\n",
       "\n",
       "    .dataframe thead th {\n",
       "        text-align: left;\n",
       "    }\n",
       "\n",
       "    .dataframe tbody tr th {\n",
       "        vertical-align: top;\n",
       "    }\n",
       "</style>\n",
       "<table border=\"1\" class=\"dataframe\">\n",
       "  <thead>\n",
       "    <tr style=\"text-align: right;\">\n",
       "      <th></th>\n",
       "      <th>timestamp</th>\n",
       "      <th>Distance (mi)</th>\n",
       "      <th>Flights Climbed (count)</th>\n",
       "      <th>Steps (count)</th>\n",
       "    </tr>\n",
       "  </thead>\n",
       "  <tbody>\n",
       "    <tr>\n",
       "      <th>0</th>\n",
       "      <td>2014-12-25 11:00:00</td>\n",
       "      <td>0.012564</td>\n",
       "      <td>0.0</td>\n",
       "      <td>26.0</td>\n",
       "    </tr>\n",
       "    <tr>\n",
       "      <th>1</th>\n",
       "      <td>2014-12-25 12:00:00</td>\n",
       "      <td>0.005201</td>\n",
       "      <td>0.0</td>\n",
       "      <td>11.0</td>\n",
       "    </tr>\n",
       "    <tr>\n",
       "      <th>2</th>\n",
       "      <td>2014-12-25 13:00:00</td>\n",
       "      <td>0.023413</td>\n",
       "      <td>0.0</td>\n",
       "      <td>52.0</td>\n",
       "    </tr>\n",
       "    <tr>\n",
       "      <th>3</th>\n",
       "      <td>2014-12-25 14:00:00</td>\n",
       "      <td>0.032492</td>\n",
       "      <td>0.0</td>\n",
       "      <td>69.0</td>\n",
       "    </tr>\n",
       "    <tr>\n",
       "      <th>4</th>\n",
       "      <td>2014-12-25 15:00:00</td>\n",
       "      <td>0.002653</td>\n",
       "      <td>0.0</td>\n",
       "      <td>7.0</td>\n",
       "    </tr>\n",
       "  </tbody>\n",
       "</table>\n",
       "</div>"
      ],
      "text/plain": [
       "            timestamp  Distance (mi)  Flights Climbed (count)  Steps (count)\n",
       "0 2014-12-25 11:00:00       0.012564                      0.0           26.0\n",
       "1 2014-12-25 12:00:00       0.005201                      0.0           11.0\n",
       "2 2014-12-25 13:00:00       0.023413                      0.0           52.0\n",
       "3 2014-12-25 14:00:00       0.032492                      0.0           69.0\n",
       "4 2014-12-25 15:00:00       0.002653                      0.0            7.0"
      ]
     },
     "execution_count": 5,
     "metadata": {},
     "output_type": "execute_result"
    }
   ],
   "source": [
    "df['timestamp'] = pd.to_datetime(df['timestamp'])\n",
    "\n",
    "print(df.info())\n",
    "df.head()"
   ]
  },
  {
   "cell_type": "markdown",
   "metadata": {},
   "source": [
    "Every date in the 'Date' column is now of data type **datetime64**. Datetime objects are in the format **yyyy-mm-dd hh:mm:ss** by default\n",
    "\n",
    "### Make a DateTime Index\n",
    "\n",
    "It is often useful (and common practice) to organize your time series data by making a datetime index."
   ]
  },
  {
   "cell_type": "code",
   "execution_count": 6,
   "metadata": {},
   "outputs": [
    {
     "data": {
      "text/html": [
       "<div>\n",
       "<style>\n",
       "    .dataframe thead tr:only-child th {\n",
       "        text-align: right;\n",
       "    }\n",
       "\n",
       "    .dataframe thead th {\n",
       "        text-align: left;\n",
       "    }\n",
       "\n",
       "    .dataframe tbody tr th {\n",
       "        vertical-align: top;\n",
       "    }\n",
       "</style>\n",
       "<table border=\"1\" class=\"dataframe\">\n",
       "  <thead>\n",
       "    <tr style=\"text-align: right;\">\n",
       "      <th></th>\n",
       "      <th>Distance (mi)</th>\n",
       "      <th>Flights Climbed (count)</th>\n",
       "      <th>Steps (count)</th>\n",
       "    </tr>\n",
       "    <tr>\n",
       "      <th>timestamp</th>\n",
       "      <th></th>\n",
       "      <th></th>\n",
       "      <th></th>\n",
       "    </tr>\n",
       "  </thead>\n",
       "  <tbody>\n",
       "    <tr>\n",
       "      <th>2014-12-25 11:00:00</th>\n",
       "      <td>0.012564</td>\n",
       "      <td>0.0</td>\n",
       "      <td>26.0</td>\n",
       "    </tr>\n",
       "    <tr>\n",
       "      <th>2014-12-25 12:00:00</th>\n",
       "      <td>0.005201</td>\n",
       "      <td>0.0</td>\n",
       "      <td>11.0</td>\n",
       "    </tr>\n",
       "    <tr>\n",
       "      <th>2014-12-25 13:00:00</th>\n",
       "      <td>0.023413</td>\n",
       "      <td>0.0</td>\n",
       "      <td>52.0</td>\n",
       "    </tr>\n",
       "    <tr>\n",
       "      <th>2014-12-25 14:00:00</th>\n",
       "      <td>0.032492</td>\n",
       "      <td>0.0</td>\n",
       "      <td>69.0</td>\n",
       "    </tr>\n",
       "    <tr>\n",
       "      <th>2014-12-25 15:00:00</th>\n",
       "      <td>0.002653</td>\n",
       "      <td>0.0</td>\n",
       "      <td>7.0</td>\n",
       "    </tr>\n",
       "  </tbody>\n",
       "</table>\n",
       "</div>"
      ],
      "text/plain": [
       "                     Distance (mi)  Flights Climbed (count)  Steps (count)\n",
       "timestamp                                                                 \n",
       "2014-12-25 11:00:00       0.012564                      0.0           26.0\n",
       "2014-12-25 12:00:00       0.005201                      0.0           11.0\n",
       "2014-12-25 13:00:00       0.023413                      0.0           52.0\n",
       "2014-12-25 14:00:00       0.032492                      0.0           69.0\n",
       "2014-12-25 15:00:00       0.002653                      0.0            7.0"
      ]
     },
     "execution_count": 6,
     "metadata": {},
     "output_type": "execute_result"
    }
   ],
   "source": [
    "df.set_index('timestamp', inplace = True)\n",
    "\n",
    "df.head()"
   ]
  },
  {
   "cell_type": "markdown",
   "metadata": {},
   "source": [
    "## DateTime Index Properties\n",
    "\n",
    "### Extract the Year, Month, Day, Hour, Minute, Second, Day of the Week…"
   ]
  },
  {
   "cell_type": "code",
   "execution_count": 7,
   "metadata": {},
   "outputs": [
    {
     "data": {
      "text/plain": [
       "Int64Index([2014, 2014, 2014, 2014, 2014, 2014, 2014, 2014, 2014, 2014,\n",
       "            ...\n",
       "            2018, 2018, 2018, 2018, 2018, 2018, 2018, 2018, 2018, 2018],\n",
       "           dtype='int64', name='timestamp', length=27435)"
      ]
     },
     "execution_count": 7,
     "metadata": {},
     "output_type": "execute_result"
    }
   ],
   "source": [
    "# Years\n",
    "df.index.year"
   ]
  },
  {
   "cell_type": "code",
   "execution_count": 8,
   "metadata": {},
   "outputs": [
    {
     "data": {
      "text/plain": [
       "Int64Index([12, 12, 12, 12, 12, 12, 12, 12, 12, 12,\n",
       "            ...\n",
       "             2,  2,  2,  2,  2,  2,  2,  2,  2,  2],\n",
       "           dtype='int64', name='timestamp', length=27435)"
      ]
     },
     "execution_count": 8,
     "metadata": {},
     "output_type": "execute_result"
    }
   ],
   "source": [
    "# Months\n",
    "df.index.month"
   ]
  },
  {
   "cell_type": "code",
   "execution_count": 9,
   "metadata": {},
   "outputs": [
    {
     "data": {
      "text/plain": [
       "Int64Index([25, 25, 25, 25, 25, 25, 25, 25, 25, 25,\n",
       "            ...\n",
       "            10, 10, 10, 10, 10, 10, 10, 10, 10, 10],\n",
       "           dtype='int64', name='timestamp', length=27435)"
      ]
     },
     "execution_count": 9,
     "metadata": {},
     "output_type": "execute_result"
    }
   ],
   "source": [
    "# Days\n",
    "df.index.day"
   ]
  },
  {
   "cell_type": "markdown",
   "metadata": {},
   "source": [
    "### Groupby Year, Month, Day, Hour, Minute, Second, Day of the Week…"
   ]
  },
  {
   "cell_type": "code",
   "execution_count": 10,
   "metadata": {},
   "outputs": [
    {
     "data": {
      "text/html": [
       "<div>\n",
       "<style>\n",
       "    .dataframe thead tr:only-child th {\n",
       "        text-align: right;\n",
       "    }\n",
       "\n",
       "    .dataframe thead th {\n",
       "        text-align: left;\n",
       "    }\n",
       "\n",
       "    .dataframe tbody tr th {\n",
       "        vertical-align: top;\n",
       "    }\n",
       "</style>\n",
       "<table border=\"1\" class=\"dataframe\">\n",
       "  <thead>\n",
       "    <tr style=\"text-align: right;\">\n",
       "      <th></th>\n",
       "      <th>Distance (mi)</th>\n",
       "      <th>Flights Climbed (count)</th>\n",
       "      <th>Steps (count)</th>\n",
       "    </tr>\n",
       "    <tr>\n",
       "      <th>timestamp</th>\n",
       "      <th></th>\n",
       "      <th></th>\n",
       "      <th></th>\n",
       "    </tr>\n",
       "  </thead>\n",
       "  <tbody>\n",
       "    <tr>\n",
       "      <th>2014</th>\n",
       "      <td>0.075968</td>\n",
       "      <td>0.242038</td>\n",
       "      <td>168.923567</td>\n",
       "    </tr>\n",
       "    <tr>\n",
       "      <th>2015</th>\n",
       "      <td>0.076026</td>\n",
       "      <td>0.220434</td>\n",
       "      <td>170.291096</td>\n",
       "    </tr>\n",
       "    <tr>\n",
       "      <th>2016</th>\n",
       "      <td>0.129324</td>\n",
       "      <td>0.514117</td>\n",
       "      <td>304.229819</td>\n",
       "    </tr>\n",
       "    <tr>\n",
       "      <th>2017</th>\n",
       "      <td>0.129073</td>\n",
       "      <td>0.802854</td>\n",
       "      <td>291.028797</td>\n",
       "    </tr>\n",
       "    <tr>\n",
       "      <th>2018</th>\n",
       "      <td>0.077536</td>\n",
       "      <td>0.645791</td>\n",
       "      <td>179.867561</td>\n",
       "    </tr>\n",
       "  </tbody>\n",
       "</table>\n",
       "</div>"
      ],
      "text/plain": [
       "           Distance (mi)  Flights Climbed (count)  Steps (count)\n",
       "timestamp                                                       \n",
       "2014            0.075968                 0.242038     168.923567\n",
       "2015            0.076026                 0.220434     170.291096\n",
       "2016            0.129324                 0.514117     304.229819\n",
       "2017            0.129073                 0.802854     291.028797\n",
       "2018            0.077536                 0.645791     179.867561"
      ]
     },
     "execution_count": 10,
     "metadata": {},
     "output_type": "execute_result"
    }
   ],
   "source": [
    "# by year\n",
    "df.groupby(df.index.year).mean()"
   ]
  },
  {
   "cell_type": "code",
   "execution_count": 11,
   "metadata": {},
   "outputs": [
    {
     "data": {
      "text/html": [
       "<div>\n",
       "<style>\n",
       "    .dataframe thead tr:only-child th {\n",
       "        text-align: right;\n",
       "    }\n",
       "\n",
       "    .dataframe thead th {\n",
       "        text-align: left;\n",
       "    }\n",
       "\n",
       "    .dataframe tbody tr th {\n",
       "        vertical-align: top;\n",
       "    }\n",
       "</style>\n",
       "<table border=\"1\" class=\"dataframe\">\n",
       "  <thead>\n",
       "    <tr style=\"text-align: right;\">\n",
       "      <th></th>\n",
       "      <th>Distance (mi)</th>\n",
       "      <th>Flights Climbed (count)</th>\n",
       "      <th>Steps (count)</th>\n",
       "    </tr>\n",
       "    <tr>\n",
       "      <th>timestamp</th>\n",
       "      <th></th>\n",
       "      <th></th>\n",
       "      <th></th>\n",
       "    </tr>\n",
       "  </thead>\n",
       "  <tbody>\n",
       "    <tr>\n",
       "      <th>1</th>\n",
       "      <td>0.086009</td>\n",
       "      <td>0.424059</td>\n",
       "      <td>196.025459</td>\n",
       "    </tr>\n",
       "    <tr>\n",
       "      <th>2</th>\n",
       "      <td>0.111805</td>\n",
       "      <td>0.477974</td>\n",
       "      <td>251.185685</td>\n",
       "    </tr>\n",
       "    <tr>\n",
       "      <th>3</th>\n",
       "      <td>0.103234</td>\n",
       "      <td>0.397936</td>\n",
       "      <td>232.494977</td>\n",
       "    </tr>\n",
       "    <tr>\n",
       "      <th>4</th>\n",
       "      <td>0.126937</td>\n",
       "      <td>0.396759</td>\n",
       "      <td>292.187935</td>\n",
       "    </tr>\n",
       "    <tr>\n",
       "      <th>5</th>\n",
       "      <td>0.103049</td>\n",
       "      <td>0.432348</td>\n",
       "      <td>237.480177</td>\n",
       "    </tr>\n",
       "    <tr>\n",
       "      <th>6</th>\n",
       "      <td>0.101325</td>\n",
       "      <td>0.525463</td>\n",
       "      <td>232.674537</td>\n",
       "    </tr>\n",
       "    <tr>\n",
       "      <th>7</th>\n",
       "      <td>0.077562</td>\n",
       "      <td>0.396057</td>\n",
       "      <td>177.461022</td>\n",
       "    </tr>\n",
       "    <tr>\n",
       "      <th>8</th>\n",
       "      <td>0.110616</td>\n",
       "      <td>0.590950</td>\n",
       "      <td>259.130824</td>\n",
       "    </tr>\n",
       "    <tr>\n",
       "      <th>9</th>\n",
       "      <td>0.155420</td>\n",
       "      <td>0.774537</td>\n",
       "      <td>358.914896</td>\n",
       "    </tr>\n",
       "    <tr>\n",
       "      <th>10</th>\n",
       "      <td>0.134065</td>\n",
       "      <td>0.728495</td>\n",
       "      <td>305.605527</td>\n",
       "    </tr>\n",
       "    <tr>\n",
       "      <th>11</th>\n",
       "      <td>0.131391</td>\n",
       "      <td>0.653722</td>\n",
       "      <td>298.778011</td>\n",
       "    </tr>\n",
       "    <tr>\n",
       "      <th>12</th>\n",
       "      <td>0.091262</td>\n",
       "      <td>0.435329</td>\n",
       "      <td>209.953193</td>\n",
       "    </tr>\n",
       "  </tbody>\n",
       "</table>\n",
       "</div>"
      ],
      "text/plain": [
       "           Distance (mi)  Flights Climbed (count)  Steps (count)\n",
       "timestamp                                                       \n",
       "1               0.086009                 0.424059     196.025459\n",
       "2               0.111805                 0.477974     251.185685\n",
       "3               0.103234                 0.397936     232.494977\n",
       "4               0.126937                 0.396759     292.187935\n",
       "5               0.103049                 0.432348     237.480177\n",
       "6               0.101325                 0.525463     232.674537\n",
       "7               0.077562                 0.396057     177.461022\n",
       "8               0.110616                 0.590950     259.130824\n",
       "9               0.155420                 0.774537     358.914896\n",
       "10              0.134065                 0.728495     305.605527\n",
       "11              0.131391                 0.653722     298.778011\n",
       "12              0.091262                 0.435329     209.953193"
      ]
     },
     "execution_count": 11,
     "metadata": {},
     "output_type": "execute_result"
    }
   ],
   "source": [
    "# by month\n",
    "df.groupby(df.index.month).mean()"
   ]
  },
  {
   "cell_type": "code",
   "execution_count": 12,
   "metadata": {},
   "outputs": [
    {
     "data": {
      "text/html": [
       "<div>\n",
       "<style>\n",
       "    .dataframe thead tr:only-child th {\n",
       "        text-align: right;\n",
       "    }\n",
       "\n",
       "    .dataframe thead th {\n",
       "        text-align: left;\n",
       "    }\n",
       "\n",
       "    .dataframe tbody tr th {\n",
       "        vertical-align: top;\n",
       "    }\n",
       "</style>\n",
       "<table border=\"1\" class=\"dataframe\">\n",
       "  <thead>\n",
       "    <tr style=\"text-align: right;\">\n",
       "      <th></th>\n",
       "      <th>Distance (mi)</th>\n",
       "      <th>Flights Climbed (count)</th>\n",
       "      <th>Steps (count)</th>\n",
       "    </tr>\n",
       "    <tr>\n",
       "      <th>timestamp</th>\n",
       "      <th></th>\n",
       "      <th></th>\n",
       "      <th></th>\n",
       "    </tr>\n",
       "  </thead>\n",
       "  <tbody>\n",
       "    <tr>\n",
       "      <th>0</th>\n",
       "      <td>0.107608</td>\n",
       "      <td>0.513548</td>\n",
       "      <td>249.043526</td>\n",
       "    </tr>\n",
       "    <tr>\n",
       "      <th>1</th>\n",
       "      <td>0.109002</td>\n",
       "      <td>0.506135</td>\n",
       "      <td>250.285089</td>\n",
       "    </tr>\n",
       "    <tr>\n",
       "      <th>2</th>\n",
       "      <td>0.113600</td>\n",
       "      <td>0.543967</td>\n",
       "      <td>259.312777</td>\n",
       "    </tr>\n",
       "    <tr>\n",
       "      <th>3</th>\n",
       "      <td>0.109513</td>\n",
       "      <td>0.510828</td>\n",
       "      <td>250.990825</td>\n",
       "    </tr>\n",
       "    <tr>\n",
       "      <th>4</th>\n",
       "      <td>0.122911</td>\n",
       "      <td>0.538618</td>\n",
       "      <td>279.750694</td>\n",
       "    </tr>\n",
       "    <tr>\n",
       "      <th>5</th>\n",
       "      <td>0.118371</td>\n",
       "      <td>0.523434</td>\n",
       "      <td>270.554661</td>\n",
       "    </tr>\n",
       "    <tr>\n",
       "      <th>6</th>\n",
       "      <td>0.089462</td>\n",
       "      <td>0.472904</td>\n",
       "      <td>204.240428</td>\n",
       "    </tr>\n",
       "  </tbody>\n",
       "</table>\n",
       "</div>"
      ],
      "text/plain": [
       "           Distance (mi)  Flights Climbed (count)  Steps (count)\n",
       "timestamp                                                       \n",
       "0               0.107608                 0.513548     249.043526\n",
       "1               0.109002                 0.506135     250.285089\n",
       "2               0.113600                 0.543967     259.312777\n",
       "3               0.109513                 0.510828     250.990825\n",
       "4               0.122911                 0.538618     279.750694\n",
       "5               0.118371                 0.523434     270.554661\n",
       "6               0.089462                 0.472904     204.240428"
      ]
     },
     "execution_count": 12,
     "metadata": {},
     "output_type": "execute_result"
    }
   ],
   "source": [
    "# by day\n",
    "df.groupby(df.index.dayofweek).mean()"
   ]
  },
  {
   "cell_type": "code",
   "execution_count": null,
   "metadata": {
    "collapsed": true
   },
   "outputs": [],
   "source": []
  }
 ],
 "metadata": {
  "kernelspec": {
   "display_name": "Python 3",
   "language": "python",
   "name": "python3"
  },
  "language_info": {
   "codemirror_mode": {
    "name": "ipython",
    "version": 3
   },
   "file_extension": ".py",
   "mimetype": "text/x-python",
   "name": "python",
   "nbconvert_exporter": "python",
   "pygments_lexer": "ipython3",
   "version": "3.6.3"
  }
 },
 "nbformat": 4,
 "nbformat_minor": 2
}
